{
 "cells": [
  {
   "cell_type": "code",
   "execution_count": 9,
   "metadata": {
    "scrolled": true
   },
   "outputs": [
    {
     "name": "stdout",
     "output_type": "stream",
     "text": [
      "Enter your name ali\n",
      "Enter your department bio\n",
      "Enter your degree 70\n",
      "Hello ali,your department is bio and your grade is <<good>>!.\n"
     ]
    }
   ],
   "source": [
    "a=input(\"Enter your name \")\n",
    "b=input(\"Enter your department \")\n",
    "c=int(input(\"Enter your degree \"))\n",
    "if c>90 :\n",
    "    print(\"Hello \" +a+ \",\"+ \"your department is \"+b+\" and your grade is <<excellent>>!.\")\n",
    "elif c<=90 and c>70 :\n",
    "    print(\"Hello \" +a+ \",\"+ \"your department is \"+b+\" and your grade is <<very good>>!.\")\n",
    "elif c<=70and c>60 :\n",
    "    print(\"Hello \" +a+ \",\"+ \"your department is \"+b+\" and your grade is <<good>>!.\")\n",
    "elif c==60 :\n",
    "    print(\"Hello \" +a+ \",\"+ \"your department is \"+b+\" and your grade is <<pass>>!.\")\n",
    "else:\n",
    "    print(\"Hello \" +a+ \",\"+ \"your department is \"+b+\" and your grade is <<fail>>!.\")"
   ]
  },
  {
   "cell_type": "code",
   "execution_count": 15,
   "metadata": {
    "scrolled": true
   },
   "outputs": [
    {
     "name": "stdout",
     "output_type": "stream",
     "text": [
      "Enter your name nn\n",
      "Enter your weight(kg) 80\n",
      "Enter your height (cm)180\n",
      "3.24\n",
      "your BMI value is  24.691358024691358  and you are :<<NORMAL WEIGHT>>\n"
     ]
    }
   ],
   "source": [
    "d=input(\"Enter your name \")\n",
    "f=float(input(\"Enter your weight(kg) \"))\n",
    "g=float(input(\"Enter your height (cm)\"))#بالسنتميتر\n",
    "m=((g/100)*(g/100))\n",
    "BMI =f/m #عشان اعمله بالمتر \n",
    "#BMI =f/(g*g*0.01)\n",
    "if BMI<=18.5 :\n",
    "    print(\"your BMI value is \" ,BMI, \" and you are :<<UNDERWEIGHT>>\")\n",
    "elif BMI>18.5 and BMI<=24.9 :\n",
    "    print(\"your BMI value is \" ,BMI,\" and you are :<<NORMAL WEIGHT>>\")\n",
    "elif BMI>24.9 and BMI<=29.9:\n",
    "    print(\"your BMI value is \" ,BMI ,\" and you are :<<OVER WEIGHT>>\")\n",
    "else:\n",
    "    print(\"your BMI value is \",BMI,\" and you are :<<OBESE>>\")\n",
    "\n"
   ]
  },
  {
   "cell_type": "code",
   "execution_count": null,
   "metadata": {},
   "outputs": [],
   "source": []
  },
  {
   "cell_type": "code",
   "execution_count": null,
   "metadata": {},
   "outputs": [],
   "source": []
  }
 ],
 "metadata": {
  "kernelspec": {
   "display_name": "Python 3",
   "language": "python",
   "name": "python3"
  },
  "language_info": {
   "codemirror_mode": {
    "name": "ipython",
    "version": 3
   },
   "file_extension": ".py",
   "mimetype": "text/x-python",
   "name": "python",
   "nbconvert_exporter": "python",
   "pygments_lexer": "ipython3",
   "version": "3.8.3"
  }
 },
 "nbformat": 4,
 "nbformat_minor": 4
}
